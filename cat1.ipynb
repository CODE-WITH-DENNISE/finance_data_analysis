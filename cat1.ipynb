{
 "cells": [
  {
   "cell_type": "code",
   "execution_count": 7,
   "id": "372943e3-0f3d-426d-97ab-333c40301ee3",
   "metadata": {},
   "outputs": [
    {
     "name": "stderr",
     "output_type": "stream",
     "text": [
      "C:\\Users\\kkibet\\AppData\\Local\\Temp\\ipykernel_22472\\3992252269.py:7: DtypeWarning: Columns (6,7,8,10,15,17,18,19,21,24) have mixed types. Specify dtype option on import or set low_memory=False.\n",
      "  df = pd.read_csv(file_path, encoding='latin1')\n"
     ]
    },
    {
     "name": "stdout",
     "output_type": "stream",
     "text": [
      "Successfully read the file with encoding 'latin1'.\n",
      "          CATEGORY  Asset Count    Total Cost     Total NBV\n",
      "0    1000-12001-20         3301  1.275532e+07  8.505319e+06\n",
      "1   1000-11002.-10        56873  6.211514e+08  2.474509e+08\n",
      "2    1000-12090-10        38198  4.246802e+07  1.059520e+07\n",
      "3    1000-12001-10        77404  2.094800e+08  4.390419e+07\n",
      "4    1000-12099-30        11263  9.928894e+07  4.159989e+07\n",
      "5    1000-18500-30        16325  1.621487e+08  7.114851e+07\n",
      "6   1000-13099.-30          683  2.841858e+07  1.332318e+07\n",
      "7    1000-11099-30        53977  3.609015e+08  1.238104e+08\n",
      "8    1000-11002-20        37507  1.768937e+08  4.985951e+07\n",
      "9    1000-11090-10        27875  8.617171e+07  4.383442e+07\n",
      "10   1000-11003-10        31663  5.039387e+07  2.127528e+07\n",
      "11   1000-18300-30        15652  1.053557e+08  3.524152e+07\n",
      "12   1000-13002-10         1454  5.403216e+07  1.758278e+07\n",
      "13   1000-13002-20          101  1.074643e+07  7.185369e+06\n",
      "14   1000-11008-20           20  4.663194e+05  4.507754e+05\n",
      "15   1000-18700-30         3687  2.655945e+07  9.075401e+06\n",
      "16   1000-15099-30         8516  1.176276e+07  6.123264e+06\n",
      "17   1000-12002-20          573  2.149924e+06  1.473268e+06\n",
      "18   1000-12002-10         2206  4.612054e+06  3.806101e+06\n",
      "19   1000-18400-30          867  7.292664e+06  3.598222e+06\n",
      "20   1000-18200-30         3805  3.123383e+07  1.133992e+07\n",
      "21   1000-13090-10          358  5.568274e+06  3.413235e+06\n",
      "22   1000-12003-20         1112  1.615038e+07  8.818675e+06\n",
      "23   1000-15001-20            7  2.515911e+06  1.588057e+06\n",
      "24   1000-11007-10          775  3.815551e+07  9.503692e+06\n",
      "25   1000-11008-10         2146  8.767972e+07  1.835052e+07\n",
      "26   1000-18800-30          575  3.781224e+08  2.010081e+08\n",
      "27   1000-12003-10         2448  4.893501e+07  1.677155e+07\n",
      "28   1000-16002-10          726  9.144243e+07  4.049643e+07\n",
      "29   1000-16099-30          376  1.110955e+07  4.484230e+06\n",
      "30   1000-16001-10         3766  3.573863e+07  8.235446e+06\n",
      "31   1000-18900-10         9121  4.006049e+06  7.678788e+05\n",
      "32   1000-13003-20           79  3.621898e+06  2.610833e+06\n",
      "33   1000-11006-20          398  4.471703e+05  7.409643e+04\n",
      "34   1000-11006-10         4443  5.333154e+06  3.380676e+06\n",
      "35  1000-15001.-10          399  7.858007e+06  2.380012e+06\n",
      "36   1000-11001-10          322  2.995961e+07  1.470937e+06\n",
      "37   1000-13004-20           10  2.993628e+06  8.860485e+05\n",
      "38   1000-13004-10          417  1.354112e+07  2.307451e+06\n",
      "39   1000-13099-30           51  7.513567e+06  8.627099e+05\n",
      "40   1000-14099-30           23  4.876439e+06  1.102772e+06\n",
      "41   1000-15001-10           56  6.326998e+06  1.763666e+06\n",
      "42   1000-13005-10           35  2.091900e+06  1.084305e+06\n",
      "43   1000-11010-20            4  1.812664e+06  4.251632e+05\n",
      "44   1000-14003-30           14  2.370532e+06  3.150274e+05\n",
      "45   1000-12004-10           64  5.023003e+05  4.229567e+04\n",
      "46   1000-14090-10           41  1.977585e+05  1.570511e+04\n",
      "47   1000-14002-10         1032  1.002167e+07  1.823945e+06\n",
      "48   1000-11010-10            1  3.691688e+05  2.215012e+05\n",
      "49   1000-13003-10            3  7.785124e+06  4.865703e+06\n",
      "50   1000-16001-20           10  1.864601e+05  1.243071e+04\n",
      "51   1000-11004-10          106  6.246604e+06  2.420842e+06\n",
      "52   1000-18100-30            1  1.875000e+05  6.562500e+04\n"
     ]
    }
   ],
   "source": [
    "import pandas as pd\n",
    "\n",
    "# Assuming you have the dataset in a CSV file\n",
    "file_path = 'network1.csv'\n",
    "\n",
    "# Load the dataset\n",
    "df = pd.read_csv(file_path, encoding='latin1')\n",
    "print(\"Successfully read the file with encoding 'latin1'.\")\n",
    "\n",
    "# Replace 'Category', 'Cost', and 'NetBookValue' with the actual column names from your dataset\n",
    "category_column = 'CATEGORY'\n",
    "cost_column = 'COST'\n",
    "nbv_column = 'NBV'\n",
    "\n",
    "# Count the number of assets per category\n",
    "asset_count = df.groupby(category_column).size().reset_index(name='Asset Count')\n",
    "\n",
    "# Calculate the total cost per category\n",
    "total_cost = df.groupby(category_column)[cost_column].sum().reset_index(name='Total Cost')\n",
    "\n",
    "# Calculate the total NBV per category\n",
    "total_nbv = df.groupby(category_column)[nbv_column].sum().reset_index(name='Total NBV')\n",
    "\n",
    "# Merge the results into a single DataFrame\n",
    "result = asset_count.merge(total_cost, on=category_column).merge(total_nbv, on=category_column)\n",
    "\n",
    "# Fill missing categories with 0 if necessary\n",
    "all_categories = df[category_column].unique()\n",
    "result = result.set_index(category_column).reindex(all_categories, fill_value=0).reset_index()\n",
    "result.to_csv('NET.CSV', index=False)\n",
    "print(result)\n"
   ]
  },
  {
   "cell_type": "code",
   "execution_count": null,
   "id": "7c34886e-2635-4d90-8348-4aa117f31fd9",
   "metadata": {},
   "outputs": [],
   "source": []
  }
 ],
 "metadata": {
  "kernelspec": {
   "display_name": "Python 3 (ipykernel)",
   "language": "python",
   "name": "python3"
  },
  "language_info": {
   "codemirror_mode": {
    "name": "ipython",
    "version": 3
   },
   "file_extension": ".py",
   "mimetype": "text/x-python",
   "name": "python",
   "nbconvert_exporter": "python",
   "pygments_lexer": "ipython3",
   "version": "3.12.4"
  }
 },
 "nbformat": 4,
 "nbformat_minor": 5
}
