{
 "cells": [
  {
   "cell_type": "code",
   "execution_count": 2,
   "id": "5ddfb057-efd5-47e2-aff5-6dadcf5239c7",
   "metadata": {},
   "outputs": [
    {
     "name": "stderr",
     "output_type": "stream",
     "text": [
      "C:\\Users\\kkibet\\AppData\\Local\\Temp\\ipykernel_14044\\3745949217.py:18: DtypeWarning: Columns (5,6,12,13,16,17,19,22,37) have mixed types. Specify dtype option on import or set low_memory=False.\n",
      "  df = pd.read_csv(file, encoding='latin1', delimiter=',')\n",
      "C:\\Users\\kkibet\\AppData\\Local\\Temp\\ipykernel_14044\\3745949217.py:18: DtypeWarning: Columns (5,7,8,12,13,16,17,19,22,37) have mixed types. Specify dtype option on import or set low_memory=False.\n",
      "  df = pd.read_csv(file, encoding='latin1', delimiter=',')\n",
      "C:\\Users\\kkibet\\AppData\\Local\\Temp\\ipykernel_14044\\3745949217.py:18: DtypeWarning: Columns (5,6,8,12,13,14,22,37) have mixed types. Specify dtype option on import or set low_memory=False.\n",
      "  df = pd.read_csv(file, encoding='latin1', delimiter=',')\n"
     ]
    },
    {
     "name": "stdout",
     "output_type": "stream",
     "text": [
      "CSV files have been merged successfully into 'merged_file.csv'.\n"
     ]
    }
   ],
   "source": [
    "import pandas as pd\n",
    "import glob\n",
    "\n",
    "# List of CSV files to merge\n",
    "\n",
    "\n",
    "import pandas as pd\n",
    "\n",
    "# List of CSV files to merge\n",
    "csv_files = [\"Book1.csv\", \"Book2.csv\", \"Book3.csv\"]\n",
    "\n",
    "# Initialize an empty list to hold DataFrames\n",
    "dfs = []\n",
    "\n",
    "# Loop through the files and read them into DataFrames\n",
    "for file in csv_files:\n",
    "    # Read each CSV file with Latin-1 encoding and comma delimiter\n",
    "    df = pd.read_csv(file, encoding='latin1', delimiter=',')\n",
    "    dfs.append(df)\n",
    "\n",
    "# Concatenate all DataFrames into a single DataFrame\n",
    "merged_df = pd.concat(dfs, ignore_index=True)\n",
    "\n",
    "# Save the merged DataFrame to a new CSV file\n",
    "merged_df.to_csv(\"bookmerged_file.csv\", index=False, encoding='latin1')\n",
    "\n",
    "print(\"CSV files have been merged successfully into 'merged_file.csv'.\")\n",
    "\n"
   ]
  },
  {
   "cell_type": "code",
   "execution_count": 7,
   "id": "0a6ddaa7-adfc-4a8d-b3f6-cf00c2fe6c6e",
   "metadata": {},
   "outputs": [
    {
     "name": "stderr",
     "output_type": "stream",
     "text": [
      "C:\\Users\\kkibet\\AppData\\Local\\Temp\\ipykernel_10864\\531291403.py:5: DtypeWarning: Columns (5,6,7,8,9,10,11,15,16,17,18,19,20,22,25) have mixed types. Specify dtype option on import or set low_memory=False.\n",
      "  df = pd.read_csv(input_csv, encoding='latin1', delimiter=',')\n"
     ]
    },
    {
     "name": "stdout",
     "output_type": "stream",
     "text": [
      "Category '1000-11001-10' has been saved to '1000-11001-10.csv'.\n",
      "Category '1000-11001-20' has been saved to '1000-11001-20.csv'.\n",
      "Category '1000-11002-20' has been saved to '1000-11002-20.csv'.\n",
      "Category '1000-11002.-10' has been saved to '1000-11002.-10.csv'.\n",
      "Category '1000-11003-10' has been saved to '1000-11003-10.csv'.\n",
      "Category '1000-11004-10' has been saved to '1000-11004-10.csv'.\n",
      "Category '1000-11006-10' has been saved to '1000-11006-10.csv'.\n",
      "Category '1000-11006-20' has been saved to '1000-11006-20.csv'.\n",
      "Category '1000-11007-10' has been saved to '1000-11007-10.csv'.\n",
      "Category '1000-11008-10' has been saved to '1000-11008-10.csv'.\n",
      "Category '1000-11008-20' has been saved to '1000-11008-20.csv'.\n",
      "Category '1000-11009-10' has been saved to '1000-11009-10.csv'.\n",
      "Category '1000-11009-20' has been saved to '1000-11009-20.csv'.\n",
      "Category '1000-11010-10' has been saved to '1000-11010-10.csv'.\n",
      "Category '1000-11010-20' has been saved to '1000-11010-20.csv'.\n",
      "Category '1000-11090-10' has been saved to '1000-11090-10.csv'.\n",
      "Category '1000-11099-30' has been saved to '1000-11099-30.csv'.\n",
      "Category '1000-12001-10' has been saved to '1000-12001-10.csv'.\n",
      "Category '1000-12001-20' has been saved to '1000-12001-20.csv'.\n",
      "Category '1000-12002-10' has been saved to '1000-12002-10.csv'.\n",
      "Category '1000-12002-20' has been saved to '1000-12002-20.csv'.\n",
      "Category '1000-12003-10' has been saved to '1000-12003-10.csv'.\n",
      "Category '1000-12003-20' has been saved to '1000-12003-20.csv'.\n",
      "Category '1000-12004-10' has been saved to '1000-12004-10.csv'.\n",
      "Category '1000-12004-20' has been saved to '1000-12004-20.csv'.\n",
      "Category '1000-12090-10' has been saved to '1000-12090-10.csv'.\n",
      "Category '1000-12099-30' has been saved to '1000-12099-30.csv'.\n",
      "Category '1000-13001-10' has been saved to '1000-13001-10.csv'.\n",
      "Category '1000-13001-20' has been saved to '1000-13001-20.csv'.\n",
      "Category '1000-13002-10' has been saved to '1000-13002-10.csv'.\n",
      "Category '1000-13002-20' has been saved to '1000-13002-20.csv'.\n",
      "Category '1000-13003-10' has been saved to '1000-13003-10.csv'.\n",
      "Category '1000-13003-20' has been saved to '1000-13003-20.csv'.\n",
      "Category '1000-13004-10' has been saved to '1000-13004-10.csv'.\n",
      "Category '1000-13004-20' has been saved to '1000-13004-20.csv'.\n",
      "Category '1000-13005-10' has been saved to '1000-13005-10.csv'.\n",
      "Category '1000-13005-20' has been saved to '1000-13005-20.csv'.\n",
      "Category '1000-13090-10' has been saved to '1000-13090-10.csv'.\n",
      "Category '1000-13099-30' has been saved to '1000-13099-30.csv'.\n",
      "Category '1000-13099.-30' has been saved to '1000-13099.-30.csv'.\n",
      "Category '1000-14001-10' has been saved to '1000-14001-10.csv'.\n",
      "Category '1000-14001-20' has been saved to '1000-14001-20.csv'.\n",
      "Category '1000-14002-10' has been saved to '1000-14002-10.csv'.\n",
      "Category '1000-14002-20' has been saved to '1000-14002-20.csv'.\n",
      "Category '1000-14003-30' has been saved to '1000-14003-30.csv'.\n",
      "Category '1000-14004-10' has been saved to '1000-14004-10.csv'.\n",
      "Category '1000-14004-30' has been saved to '1000-14004-30.csv'.\n",
      "Category '1000-14090-10' has been saved to '1000-14090-10.csv'.\n",
      "Category '1000-14099-30' has been saved to '1000-14099-30.csv'.\n",
      "Category '1000-15001-10' has been saved to '1000-15001-10.csv'.\n",
      "Category '1000-15001-20' has been saved to '1000-15001-20.csv'.\n",
      "Category '1000-15001.-10' has been saved to '1000-15001.-10.csv'.\n",
      "Category '1000-15099-30' has been saved to '1000-15099-30.csv'.\n",
      "Category '1000-16001-10' has been saved to '1000-16001-10.csv'.\n",
      "Category '1000-16001-20' has been saved to '1000-16001-20.csv'.\n",
      "Category '1000-16002-10' has been saved to '1000-16002-10.csv'.\n",
      "Category '1000-16099-30' has been saved to '1000-16099-30.csv'.\n",
      "Category '1000-17001-10' has been saved to '1000-17001-10.csv'.\n",
      "Category '1000-17001-20' has been saved to '1000-17001-20.csv'.\n",
      "Category '1000-18100-30' has been saved to '1000-18100-30.csv'.\n",
      "Category '1000-18200-30' has been saved to '1000-18200-30.csv'.\n",
      "Category '1000-18300-30' has been saved to '1000-18300-30.csv'.\n",
      "Category '1000-18400-30' has been saved to '1000-18400-30.csv'.\n",
      "Category '1000-18500-30' has been saved to '1000-18500-30.csv'.\n",
      "Category '1000-18500-70' has been saved to '1000-18500-70.csv'.\n",
      "Category '1000-18700-30' has been saved to '1000-18700-30.csv'.\n",
      "Category '1000-18800-30' has been saved to '1000-18800-30.csv'.\n",
      "Category '1000-18900-10' has been saved to '1000-18900-10.csv'.\n"
     ]
    }
   ],
   "source": [
    "import pandas as pd\n",
    "\n",
    "# Load the original CSV file\n",
    "input_csv = \"merged_file.csv\"\n",
    "df = pd.read_csv(input_csv, encoding='latin1', delimiter=',')\n",
    "\n",
    "# Group the DataFrame by the 'CATEGORY' column\n",
    "groups = df.groupby('CATEGORY')\n",
    "\n",
    "# Save each group as a separate CSV file\n",
    "for category, group in groups:\n",
    "    # Generate a file name based on the category\n",
    "    output_csv = f\"{category}.csv\"\n",
    "    \n",
    "    # Save the group to a CSV file\n",
    "    group.to_csv(output_csv, index=False, encoding='latin1')\n",
    "\n",
    "    print(f\"Category '{category}' has been saved to '{output_csv}'.\")\n"
   ]
  },
  {
   "cell_type": "code",
   "execution_count": 4,
   "id": "1ae81cea-e9be-455c-8a2b-26b92cdeb5c2",
   "metadata": {},
   "outputs": [
    {
     "name": "stderr",
     "output_type": "stream",
     "text": [
      "C:\\Users\\kkibet\\AppData\\Local\\Temp\\ipykernel_14084\\2881043180.py:4: DtypeWarning: Columns (5,6,7,8,9,10,11,15,16,17,18,19,20,22,25) have mixed types. Specify dtype option on import or set low_memory=False.\n",
      "  merged_file = pd.read_csv('merged_file.csv', encoding='latin1', delimiter=',')\n"
     ]
    },
    {
     "name": "stdout",
     "output_type": "stream",
     "text": [
      "Filtered file has been saved as 'filtered_merged_file.csv'\n"
     ]
    }
   ],
   "source": [
    "import pandas as pd\n",
    "\n",
    "# Load the data from the CSV files\n",
    "merged_file = pd.read_csv('merged_file.csv', encoding='latin1', delimiter=',')\n",
    "csvsn = pd.read_csv('csvsn.csv', encoding='latin1', delimiter=',')\n",
    "\n",
    "# Perform the filtering by checking if the SERIAL_NUMBER exists in SN\n",
    "filtered_df = merged_file[merged_file['SERIAL_NUMBER'].isin(csvsn['SN'])]\n",
    "\n",
    "# Save the filtered data to a new CSV file\n",
    "filtered_df.to_csv('filtered_merged_file.csv', index=False)\n",
    "\n",
    "# Now, split the filtered file into two smaller files\n",
    "# Define the chunk size (half of the filtered_df length)\n",
    "\n"
   ]
  },
  {
   "cell_type": "code",
   "execution_count": 6,
   "id": "762b8f47-24da-4695-bbc0-30e1a175fcc0",
   "metadata": {},
   "outputs": [
    {
     "name": "stdout",
     "output_type": "stream",
     "text": [
      "Filtered file has been split and saved as 'filtered_merged_file_part1.csv' and 'filtered_merged_file_part2.csv'\n"
     ]
    }
   ],
   "source": [
    "chunk_size = len(filtered_df) // 2\n",
    "\n",
    "# Split the DataFrame into two parts\n",
    "split_1 = filtered_df.iloc[:chunk_size]\n",
    "split_2 = filtered_df.iloc[chunk_size:]\n",
    "\n",
    "# Save each part to a separate CSV file\n",
    "split_1.to_csv('filtered_merged_file_part1.csv', index=False)\n",
    "split_2.to_csv('filtered_merged_file_part2.csv', index=False)\n",
    "\n",
    "print(\"Filtered file has been split and saved as 'filtered_merged_file_part1.csv' and 'filtered_merged_file_part2.csv'\")"
   ]
  },
  {
   "cell_type": "code",
   "execution_count": 8,
   "id": "5875ad19-7c37-4a3b-81c4-5b97eb667b82",
   "metadata": {},
   "outputs": [
    {
     "name": "stderr",
     "output_type": "stream",
     "text": [
      "C:\\Users\\kkibet\\AppData\\Local\\Temp\\ipykernel_14084\\2200583756.py:4: DtypeWarning: Columns (5,6,7,8,9,10,11,15,16,18,19,20,22,25) have mixed types. Specify dtype option on import or set low_memory=False.\n",
      "  filtered_df = pd.read_csv('filtered_merged_file.csv',  encoding='latin1', delimiter=',')\n"
     ]
    },
    {
     "name": "stdout",
     "output_type": "stream",
     "text": [
      "Cleaned file has been saved as 'filtered_merged_file_cleaned.csv'\n"
     ]
    }
   ],
   "source": [
    "import pandas as pd\n",
    "\n",
    "# Load the filtered data\n",
    "filtered_df = pd.read_csv('filtered_merged_file.csv',  encoding='latin1', delimiter=',')\n",
    "\n",
    "# Remove rows where the SERIAL_NUMBER column is empty (NaN or empty string)bookmerged_file.csv\n",
    "filtered_df_cleaned = filtered_df[filtered_df['SERIAL_NUMBER'].notna() & (filtered_df['SERIAL_NUMBER'] != '')]\n",
    "\n",
    "# Save the cleaned data to a new CSV file\n",
    "filtered_df_cleaned.to_csv('filtered_merged_file_cleaned.csv', index=False)\n",
    "\n",
    "print(\"Cleaned file has been saved as 'filtered_merged_file_cleaned.csv'\")\n"
   ]
  },
  {
   "cell_type": "code",
   "execution_count": 22,
   "id": "bb31934d-fd9f-4fd3-a497-036570e9124a",
   "metadata": {},
   "outputs": [
    {
     "name": "stderr",
     "output_type": "stream",
     "text": [
      "C:\\Users\\kkibet\\AppData\\Local\\Temp\\ipykernel_14044\\2287865889.py:4: DtypeWarning: Columns (6,7,8,10,14,15,17,18,19,21,24) have mixed types. Specify dtype option on import or set low_memory=False.\n",
      "  filtered_df_cleaned = pd.read_csv('nbvless.csv',  encoding='latin1', delimiter=',')\n"
     ]
    },
    {
     "name": "stdout",
     "output_type": "stream",
     "text": [
      "Summary sheet has been saved as 'summary_sheetnbv.csv'\n"
     ]
    }
   ],
   "source": [
    "import pandas as pd\n",
    "\n",
    "# Load the cleaned data\n",
    "filtered_df_cleaned = pd.read_csv('nbvless.csv',  encoding='latin1', delimiter=',')\n",
    "\n",
    "# Group by CATEGORY and calculate the required metrics\n",
    "summary = filtered_df_cleaned.groupby('CATEGORY').agg(\n",
    "    line_count=('CATEGORY', 'size'),\n",
    "    total_nbv=('nbv', 'sum'),\n",
    "    total_cost=('COST', 'sum')\n",
    ").reset_index()\n",
    "\n",
    "# Save the summary to a new CSV file\n",
    "summary.to_csv('Domains12.csv', index=False)\n",
    "\n",
    "print(\"Summary sheet has been saved as 'summary_sheetnbv.csv'\")\n"
   ]
  },
  {
   "cell_type": "code",
   "execution_count": 13,
   "id": "87da1379-3c57-41c1-8a5d-ca0ad5791a2c",
   "metadata": {},
   "outputs": [
    {
     "name": "stderr",
     "output_type": "stream",
     "text": [
      "C:\\Users\\kkibet\\AppData\\Local\\Temp\\ipykernel_14044\\4028483495.py:3: DtypeWarning: Columns (6,7,8,9,10,14,15,16,17,18,19,21,24) have mixed types. Specify dtype option on import or set low_memory=False.\n",
      "  merged_file = pd.read_csv('merged.csv', encoding='latin1', delimiter=',')\n"
     ]
    },
    {
     "name": "stdout",
     "output_type": "stream",
     "text": [
      "Summary sheet has been saved as 'vendors.csv'\n"
     ]
    }
   ],
   "source": [
    "import pandas as pd\n",
    "\n",
    "merged_file = pd.read_csv('merged.csv', encoding='latin1', delimiter=',')\n",
    "\n",
    "\n",
    "# Group by CATEGORY and calculate the required metrics\n",
    "summary = merged_file.groupby('VENDOR_NAME').agg(\n",
    "    line_count=('VENDOR_NAME', 'size'),\n",
    "    total_nbv=('nbv', 'sum'),\n",
    "    total_cost=('COST', 'sum')\n",
    ").reset_index()\n",
    "\n",
    "# Save the summary to a new CSV file\n",
    "summary.to_csv('vend.csv', index=False)\n",
    "\n",
    "print(\"Summary sheet has been saved as 'vendors.csv'\")\n",
    "\n",
    "\n",
    "# Now, split the filtered file into two smaller files\n",
    "# Define the chunk size (half of the filtered_df length)\n"
   ]
  },
  {
   "cell_type": "code",
   "execution_count": 18,
   "id": "f8d5aea1-db9e-4a20-9b18-11cb4d050caa",
   "metadata": {},
   "outputs": [
    {
     "name": "stderr",
     "output_type": "stream",
     "text": [
      "C:\\Users\\kkibet\\AppData\\Local\\Temp\\ipykernel_14044\\3576962712.py:4: DtypeWarning: Columns (6,7,8,9,10,14,15,16,17,18,19,21,24) have mixed types. Specify dtype option on import or set low_memory=False.\n",
      "  filtered_df_cleaned = pd.read_csv('merged.csv', encoding='latin1', delimiter=',')\n"
     ]
    },
    {
     "name": "stdout",
     "output_type": "stream",
     "text": [
      "Filtered data has been saved to 'nbvless.csv'.\n"
     ]
    }
   ],
   "source": [
    "import pandas as pd\n",
    "\n",
    "# Read the CSV file\n",
    "filtered_df_cleaned = pd.read_csv('merged.csv', encoding='latin1', delimiter=',')\n",
    "\n",
    "# Filter rows where 'nbv' column is less than or equal to 1\n",
    "filtered_df = filtered_df_cleaned[filtered_df_cleaned['nbv'] <= 1]\n",
    "\n",
    "# Save the filtered dataframe to a new CSV file named 'nbvless.csv'\n",
    "filtered_df.to_csv('nbvless.csv', index=False)\n",
    "\n",
    "print(\"Filtered data has been saved to 'nbvless.csv'.\")\n"
   ]
  },
  {
   "cell_type": "code",
   "execution_count": null,
   "id": "f45152cd-8a02-4fe4-bf41-301ade2e6cd9",
   "metadata": {},
   "outputs": [],
   "source": []
  }
 ],
 "metadata": {
  "kernelspec": {
   "display_name": "Python 3 (ipykernel)",
   "language": "python",
   "name": "python3"
  },
  "language_info": {
   "codemirror_mode": {
    "name": "ipython",
    "version": 3
   },
   "file_extension": ".py",
   "mimetype": "text/x-python",
   "name": "python",
   "nbconvert_exporter": "python",
   "pygments_lexer": "ipython3",
   "version": "3.12.4"
  }
 },
 "nbformat": 4,
 "nbformat_minor": 5
}
